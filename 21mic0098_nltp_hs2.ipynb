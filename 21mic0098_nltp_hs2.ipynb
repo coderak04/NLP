{
 "cells": [
  {
   "cell_type": "markdown",
   "id": "78db1250-a715-4a94-afd7-d4c3bca00a81",
   "metadata": {},
   "source": [
    "## HANDS ON SESSION-2\n",
    "## AKSHAT BHAGOTRA\n",
    "## 21MIC0098\n",
    "## NLP"
   ]
  },
  {
   "cell_type": "code",
   "execution_count": 1,
   "id": "27050da7-7845-4ead-954a-f21a4300f3b8",
   "metadata": {},
   "outputs": [],
   "source": [
    "import nltk\n"
   ]
  },
  {
   "cell_type": "code",
   "execution_count": 2,
   "id": "7ba4f6a2-3538-4cc5-b597-9944b2d069f2",
   "metadata": {},
   "outputs": [
    {
     "name": "stdout",
     "output_type": "stream",
     "text": [
      "*** Introductory Examples for the NLTK Book ***\n",
      "Loading text1, ..., text9 and sent1, ..., sent9\n",
      "Type the name of the text or sentence to view it.\n",
      "Type: 'texts()' or 'sents()' to list the materials.\n",
      "text1: Moby Dick by Herman Melville 1851\n",
      "text2: Sense and Sensibility by Jane Austen 1811\n",
      "text3: The Book of Genesis\n",
      "text4: Inaugural Address Corpus\n",
      "text5: Chat Corpus\n",
      "text6: Monty Python and the Holy Grail\n",
      "text7: Wall Street Journal\n",
      "text8: Personals Corpus\n",
      "text9: The Man Who Was Thursday by G . K . Chesterton 1908\n"
     ]
    }
   ],
   "source": [
    "from nltk.book import *"
   ]
  },
  {
   "cell_type": "code",
   "execution_count": 3,
   "id": "5253f795-001f-4db3-9982-8cffb4180759",
   "metadata": {},
   "outputs": [],
   "source": [
    "from nltk.corpus import brown\n",
    "from nltk.corpus import stopwords"
   ]
  },
  {
   "cell_type": "code",
   "execution_count": 4,
   "id": "5d12e21b-ac28-48b1-b945-86223f706efb",
   "metadata": {},
   "outputs": [
    {
     "data": {
      "text/plain": [
       "FreqDist({'hi': 1, 'hello': 1})"
      ]
     },
     "execution_count": 4,
     "metadata": {},
     "output_type": "execute_result"
    }
   ],
   "source": [
    "text1='hi hello'\n",
    "fd=nltk.FreqDist(text1.split())\n",
    "fd"
   ]
  },
  {
   "cell_type": "code",
   "execution_count": 5,
   "id": "4c57216d-91ae-4fdf-a67e-a01b16faba74",
   "metadata": {},
   "outputs": [
    {
     "data": {
      "text/plain": [
       "FreqDist({'the': 240, ',': 195, 'of': 146, 'to': 132, '.': 110, 'and': 101, 'be': 76, 'in': 72, 'that': 57, 'a': 53, ...})"
      ]
     },
     "execution_count": 5,
     "metadata": {},
     "output_type": "execute_result"
    }
   ],
   "source": [
    "#frequency distribution of one presidential address\n",
    "presidential_add=inaugural.words(fileids='1861-Lincoln.txt')\n",
    "words=FreqDist(presidential_add)\n",
    "words"
   ]
  },
  {
   "cell_type": "code",
   "execution_count": 6,
   "id": "110f3184-f0f1-4727-98f0-84c7e0cd9000",
   "metadata": {},
   "outputs": [],
   "source": [
    "from nltk.probability import ConditionalFreqDist"
   ]
  },
  {
   "cell_type": "code",
   "execution_count": 7,
   "id": "6944223a-49a6-403a-b54d-89cda359aa96",
   "metadata": {},
   "outputs": [
    {
     "data": {
      "text/plain": [
       "FreqDist({})"
      ]
     },
     "execution_count": 7,
     "metadata": {},
     "output_type": "execute_result"
    }
   ],
   "source": [
    "cfd=ConditionalFreqDist((len(word),word) for word in text1.split())\n",
    "cfd[13] #words with 13 characters"
   ]
  },
  {
   "cell_type": "code",
   "execution_count": 8,
   "id": "9252fa55-5302-44b9-88cf-05c83e14b064",
   "metadata": {},
   "outputs": [
    {
     "data": {
      "text/plain": [
       "FreqDist({'the': 256, 'of': 146, 'to': 135, 'and': 105, 'in': 77, 'be': 76, 'it': 59, 'that': 59, 'a': 56, 'is': 49, ...})"
      ]
     },
     "execution_count": 8,
     "metadata": {},
     "output_type": "execute_result"
    }
   ],
   "source": [
    "# Remove stop words\n",
    "stop_words = set(stopwords.words('english'))\n",
    "filtered_words = [word.lower() for word in presidential_add if word.lower() in stop_words]\n",
    "words_freq=FreqDist(filtered_words)\n",
    "words_freq"
   ]
  },
  {
   "cell_type": "code",
   "execution_count": 9,
   "id": "03387065-3b1d-481e-b396-ef770b036935",
   "metadata": {},
   "outputs": [],
   "source": [
    "import jieba #segmentation package for chinese,japanese,thai"
   ]
  },
  {
   "cell_type": "code",
   "execution_count": 10,
   "id": "f1f4f89e-0dfd-4596-88ff-b936b0962bfd",
   "metadata": {},
   "outputs": [
    {
     "data": {
      "text/plain": [
       "<generator object Tokenizer.cut at 0x000002056D54A400>"
      ]
     },
     "execution_count": 10,
     "metadata": {},
     "output_type": "execute_result"
    }
   ],
   "source": [
    "seg_list=jieba.cut(\"可通過每頁左上角的連結隨時調整\",cut_all=True)\n",
    "seg_list"
   ]
  },
  {
   "cell_type": "code",
   "execution_count": 11,
   "id": "6349a9ff-cc78-4c8c-bfa6-801a8817841d",
   "metadata": {},
   "outputs": [
    {
     "name": "stderr",
     "output_type": "stream",
     "text": [
      "Building prefix dict from the default dictionary ...\n",
      "Loading model from cache C:\\Users\\Asus\\AppData\\Local\\Temp\\jieba.cache\n",
      "Loading model cost 2.476 seconds.\n",
      "Prefix dict has been built successfully.\n"
     ]
    },
    {
     "name": "stdout",
     "output_type": "stream",
     "text": [
      "可, 通, 過, 每, 頁, 左上, 左上角, 上角, 的, 連, 結, 隨, 時, 調, 整\n"
     ]
    }
   ],
   "source": [
    "print(\", \".join(seg_list))"
   ]
  },
  {
   "cell_type": "markdown",
   "id": "74638190-b983-4920-8e35-a46771ab761d",
   "metadata": {},
   "source": [
    "## WELCOME WORD PHONETIC"
   ]
  },
  {
   "cell_type": "markdown",
   "id": "d36e68e9-239e-49d4-9415-1396a922340d",
   "metadata": {},
   "source": [
    "wɛɫkəm"
   ]
  }
 ],
 "metadata": {
  "kernelspec": {
   "display_name": "Python 3 (ipykernel)",
   "language": "python",
   "name": "python3"
  },
  "language_info": {
   "codemirror_mode": {
    "name": "ipython",
    "version": 3
   },
   "file_extension": ".py",
   "mimetype": "text/x-python",
   "name": "python",
   "nbconvert_exporter": "python",
   "pygments_lexer": "ipython3",
   "version": "3.12.1"
  }
 },
 "nbformat": 4,
 "nbformat_minor": 5
}
