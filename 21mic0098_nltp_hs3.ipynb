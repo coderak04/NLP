{
 "cells": [
  {
   "cell_type": "code",
   "execution_count": 1,
   "id": "785968be-4456-4e7c-9931-21604ea94ac9",
   "metadata": {},
   "outputs": [
    {
     "data": {
      "text/plain": [
       "['i',\n",
       " 'me',\n",
       " 'my',\n",
       " 'myself',\n",
       " 'we',\n",
       " 'our',\n",
       " 'ours',\n",
       " 'ourselves',\n",
       " 'you',\n",
       " \"you're\",\n",
       " \"you've\",\n",
       " \"you'll\",\n",
       " \"you'd\",\n",
       " 'your',\n",
       " 'yours',\n",
       " 'yourself',\n",
       " 'yourselves',\n",
       " 'he',\n",
       " 'him',\n",
       " 'his',\n",
       " 'himself',\n",
       " 'she',\n",
       " \"she's\",\n",
       " 'her',\n",
       " 'hers',\n",
       " 'herself',\n",
       " 'it',\n",
       " \"it's\",\n",
       " 'its',\n",
       " 'itself',\n",
       " 'they',\n",
       " 'them',\n",
       " 'their',\n",
       " 'theirs',\n",
       " 'themselves',\n",
       " 'what',\n",
       " 'which',\n",
       " 'who',\n",
       " 'whom',\n",
       " 'this',\n",
       " 'that',\n",
       " \"that'll\",\n",
       " 'these',\n",
       " 'those',\n",
       " 'am',\n",
       " 'is',\n",
       " 'are',\n",
       " 'was',\n",
       " 'were',\n",
       " 'be',\n",
       " 'been',\n",
       " 'being',\n",
       " 'have',\n",
       " 'has',\n",
       " 'had',\n",
       " 'having',\n",
       " 'do',\n",
       " 'does',\n",
       " 'did',\n",
       " 'doing',\n",
       " 'a',\n",
       " 'an',\n",
       " 'the',\n",
       " 'and',\n",
       " 'but',\n",
       " 'if',\n",
       " 'or',\n",
       " 'because',\n",
       " 'as',\n",
       " 'until',\n",
       " 'while',\n",
       " 'of',\n",
       " 'at',\n",
       " 'by',\n",
       " 'for',\n",
       " 'with',\n",
       " 'about',\n",
       " 'against',\n",
       " 'between',\n",
       " 'into',\n",
       " 'through',\n",
       " 'during',\n",
       " 'before',\n",
       " 'after',\n",
       " 'above',\n",
       " 'below',\n",
       " 'to',\n",
       " 'from',\n",
       " 'up',\n",
       " 'down',\n",
       " 'in',\n",
       " 'out',\n",
       " 'on',\n",
       " 'off',\n",
       " 'over',\n",
       " 'under',\n",
       " 'again',\n",
       " 'further',\n",
       " 'then',\n",
       " 'once',\n",
       " 'here',\n",
       " 'there',\n",
       " 'when',\n",
       " 'where',\n",
       " 'why',\n",
       " 'how',\n",
       " 'all',\n",
       " 'any',\n",
       " 'both',\n",
       " 'each',\n",
       " 'few',\n",
       " 'more',\n",
       " 'most',\n",
       " 'other',\n",
       " 'some',\n",
       " 'such',\n",
       " 'no',\n",
       " 'nor',\n",
       " 'not',\n",
       " 'only',\n",
       " 'own',\n",
       " 'same',\n",
       " 'so',\n",
       " 'than',\n",
       " 'too',\n",
       " 'very',\n",
       " 's',\n",
       " 't',\n",
       " 'can',\n",
       " 'will',\n",
       " 'just',\n",
       " 'don',\n",
       " \"don't\",\n",
       " 'should',\n",
       " \"should've\",\n",
       " 'now',\n",
       " 'd',\n",
       " 'll',\n",
       " 'm',\n",
       " 'o',\n",
       " 're',\n",
       " 've',\n",
       " 'y',\n",
       " 'ain',\n",
       " 'aren',\n",
       " \"aren't\",\n",
       " 'couldn',\n",
       " \"couldn't\",\n",
       " 'didn',\n",
       " \"didn't\",\n",
       " 'doesn',\n",
       " \"doesn't\",\n",
       " 'hadn',\n",
       " \"hadn't\",\n",
       " 'hasn',\n",
       " \"hasn't\",\n",
       " 'haven',\n",
       " \"haven't\",\n",
       " 'isn',\n",
       " \"isn't\",\n",
       " 'ma',\n",
       " 'mightn',\n",
       " \"mightn't\",\n",
       " 'mustn',\n",
       " \"mustn't\",\n",
       " 'needn',\n",
       " \"needn't\",\n",
       " 'shan',\n",
       " \"shan't\",\n",
       " 'shouldn',\n",
       " \"shouldn't\",\n",
       " 'wasn',\n",
       " \"wasn't\",\n",
       " 'weren',\n",
       " \"weren't\",\n",
       " 'won',\n",
       " \"won't\",\n",
       " 'wouldn',\n",
       " \"wouldn't\"]"
      ]
     },
     "execution_count": 1,
     "metadata": {},
     "output_type": "execute_result"
    }
   ],
   "source": [
    "import nltk\n",
    "from nltk.corpus import stopwords\n",
    "stopwords.words('english')"
   ]
  },
  {
   "cell_type": "code",
   "execution_count": 3,
   "id": "b1bf6c95-5ac4-4980-84b7-0379aeb5425c",
   "metadata": {},
   "outputs": [
    {
     "name": "stdout",
     "output_type": "stream",
     "text": [
      "('belford', ['B', 'EH1', 'L', 'F', 'ER0', 'D'])\n",
      "('belfry', ['B', 'EH1', 'L', 'F', 'R', 'IY0'])\n",
      "('belgacom', ['B', 'EH1', 'L', 'G', 'AH0', 'K', 'AA0', 'M'])\n",
      "('belgacom', ['B', 'EH1', 'L', 'JH', 'AH0', 'K', 'AA0', 'M'])\n",
      "('belgard', ['B', 'EH0', 'L', 'G', 'AA1', 'R', 'D'])\n",
      "('belgarde', ['B', 'EH0', 'L', 'G', 'AA1', 'R', 'D', 'IY0'])\n",
      "('belge', ['B', 'EH1', 'L', 'JH', 'IY0'])\n",
      "('belger', ['B', 'EH1', 'L', 'G', 'ER0'])\n",
      "('belgian', ['B', 'EH1', 'L', 'JH', 'AH0', 'N'])\n",
      "('belgians', ['B', 'EH1', 'L', 'JH', 'AH0', 'N', 'Z'])\n",
      "('belgique', ['B', 'EH0', 'L', 'ZH', 'IY1', 'K'])\n",
      "(\"belgique's\", ['B', 'EH0', 'L', 'JH', 'IY1', 'K', 'S'])\n",
      "('belgium', ['B', 'EH1', 'L', 'JH', 'AH0', 'M'])\n",
      "(\"belgium's\", ['B', 'EH1', 'L', 'JH', 'AH0', 'M', 'Z'])\n",
      "('belgo', ['B', 'EH1', 'L', 'G', 'OW2'])\n",
      "('belgrade', ['B', 'EH1', 'L', 'G', 'R', 'EY0', 'D'])\n",
      "('belgrade', ['B', 'EH1', 'L', 'G', 'R', 'AA2', 'D'])\n",
      "(\"belgrade's\", ['B', 'EH1', 'L', 'G', 'R', 'EY0', 'D', 'Z'])\n",
      "(\"belgrade's\", ['B', 'EH1', 'L', 'G', 'R', 'AA2', 'D', 'Z'])\n",
      "('belgrave', ['B', 'EH1', 'L', 'G', 'R', 'EY2', 'V'])\n",
      "('beli', ['B', 'EH1', 'L', 'IY0'])\n",
      "('belich', ['B', 'EH1', 'L', 'IH0', 'K'])\n",
      "('belie', ['B', 'IH0', 'L', 'AY1'])\n",
      "('belied', ['B', 'IH0', 'L', 'AY1', 'D'])\n",
      "('belief', ['B', 'IH0', 'L', 'IY1', 'F'])\n"
     ]
    }
   ],
   "source": [
    "entries=nltk.corpus.cmudict.entries()\n",
    "for entry in entries[10000:10025]:\n",
    "    print(entry)"
   ]
  },
  {
   "cell_type": "code",
   "execution_count": 4,
   "id": "a664b547-e790-4ffc-933a-757513cc4516",
   "metadata": {},
   "outputs": [
    {
     "data": {
      "text/plain": [
       "133737"
      ]
     },
     "execution_count": 4,
     "metadata": {},
     "output_type": "execute_result"
    }
   ],
   "source": [
    "len(entries)"
   ]
  },
  {
   "cell_type": "code",
   "execution_count": 5,
   "id": "b1a9600c-5107-4df2-b362-7a9c7c292c46",
   "metadata": {},
   "outputs": [],
   "source": [
    "from nltk.corpus import wordnet as wn"
   ]
  },
  {
   "cell_type": "code",
   "execution_count": 6,
   "id": "8634ffe9-d639-46c3-8023-dc5dfab86276",
   "metadata": {},
   "outputs": [
    {
     "data": {
      "text/plain": [
       "[Synset('car.n.01')]"
      ]
     },
     "execution_count": 6,
     "metadata": {},
     "output_type": "execute_result"
    }
   ],
   "source": [
    "wn.synsets('motorcar') #synsets are synonym sets"
   ]
  },
  {
   "cell_type": "code",
   "execution_count": 7,
   "id": "449de802-1f1e-4881-99ab-4ad9868d7b4a",
   "metadata": {},
   "outputs": [
    {
     "data": {
      "text/plain": [
       "['car', 'auto', 'automobile', 'machine', 'motorcar']"
      ]
     },
     "execution_count": 7,
     "metadata": {},
     "output_type": "execute_result"
    }
   ],
   "source": [
    "wn.synset('car.n.01').lemma_names()"
   ]
  },
  {
   "cell_type": "code",
   "execution_count": 22,
   "id": "39aabd7a-c808-4d34-9288-61f1fd11496e",
   "metadata": {},
   "outputs": [
    {
     "data": {
      "text/plain": [
       "[Synset('bad.n.01'),\n",
       " Synset('bad.a.01'),\n",
       " Synset('bad.s.02'),\n",
       " Synset('bad.s.03'),\n",
       " Synset('bad.s.04'),\n",
       " Synset('regretful.a.01'),\n",
       " Synset('bad.s.06'),\n",
       " Synset('bad.s.07'),\n",
       " Synset('bad.s.08'),\n",
       " Synset('bad.s.09'),\n",
       " Synset('bad.s.10'),\n",
       " Synset('bad.s.11'),\n",
       " Synset('bad.s.12'),\n",
       " Synset('bad.s.13'),\n",
       " Synset('bad.s.14'),\n",
       " Synset('badly.r.05'),\n",
       " Synset('badly.r.06')]"
      ]
     },
     "execution_count": 22,
     "metadata": {},
     "output_type": "execute_result"
    }
   ],
   "source": [
    "wn.synsets('bad')"
   ]
  },
  {
   "cell_type": "code",
   "execution_count": 15,
   "id": "36bc0cd0-ee37-455e-9ed1-6f2137cdefc8",
   "metadata": {},
   "outputs": [
    {
     "data": {
      "text/plain": [
       "['bad', 'badness']"
      ]
     },
     "execution_count": 15,
     "metadata": {},
     "output_type": "execute_result"
    }
   ],
   "source": [
    "wn.synset('bad.n.01').lemma_names()"
   ]
  },
  {
   "cell_type": "markdown",
   "id": "1c7874cf-3ddc-4e82-b276-01794a2af98e",
   "metadata": {},
   "source": [
    "Stemming Algorithm\n",
    "\n",
    "1) PorterStemmer"
   ]
  },
  {
   "cell_type": "code",
   "execution_count": 16,
   "id": "efa6d724-2a7c-42b5-a3b6-1b94d2667754",
   "metadata": {},
   "outputs": [],
   "source": [
    "from nltk.stem import PorterStemmer"
   ]
  },
  {
   "cell_type": "code",
   "execution_count": 17,
   "id": "eb4178b9-819a-4289-bd70-39cb174ac6d1",
   "metadata": {},
   "outputs": [
    {
     "data": {
      "text/plain": [
       "'happi'"
      ]
     },
     "execution_count": 17,
     "metadata": {},
     "output_type": "execute_result"
    }
   ],
   "source": [
    "stemmerporter=PorterStemmer()\n",
    "stemmerporter.stem('happiness')"
   ]
  },
  {
   "cell_type": "code",
   "execution_count": 18,
   "id": "18c273e2-2c1e-4b7d-9390-da540b190f09",
   "metadata": {},
   "outputs": [
    {
     "data": {
      "text/plain": [
       "'smile'"
      ]
     },
     "execution_count": 18,
     "metadata": {},
     "output_type": "execute_result"
    }
   ],
   "source": [
    "stemmerporter.stem('smiling')"
   ]
  },
  {
   "cell_type": "markdown",
   "id": "d0968708-04f9-4e0c-a019-f2c52f72e2a6",
   "metadata": {},
   "source": [
    "2) LancasterStemmer"
   ]
  },
  {
   "cell_type": "code",
   "execution_count": 19,
   "id": "64dd5e8f-5984-4632-97b1-c9ccc544c30a",
   "metadata": {},
   "outputs": [],
   "source": [
    "from nltk.stem import LancasterStemmer"
   ]
  },
  {
   "cell_type": "code",
   "execution_count": 21,
   "id": "badece12-5f00-445b-8537-41a201c21979",
   "metadata": {},
   "outputs": [
    {
     "data": {
      "text/plain": [
       "'happy'"
      ]
     },
     "execution_count": 21,
     "metadata": {},
     "output_type": "execute_result"
    }
   ],
   "source": [
    "stemmerlancaster=LancasterStemmer()\n",
    "stemmerlancaster.stem('happiness')"
   ]
  },
  {
   "cell_type": "markdown",
   "id": "6d44f479-1f7b-4883-876f-b847708d6649",
   "metadata": {},
   "source": [
    "3) RegexpStemmer"
   ]
  },
  {
   "cell_type": "code",
   "execution_count": 23,
   "id": "d401ab81-78f1-468f-9f56-98442c6573ce",
   "metadata": {},
   "outputs": [
    {
     "data": {
      "text/plain": [
       "'s'"
      ]
     },
     "execution_count": 23,
     "metadata": {},
     "output_type": "execute_result"
    }
   ],
   "source": [
    "from nltk.stem import RegexpStemmer\n",
    "stemmerregexp=RegexpStemmer('ing')\n",
    "stemmerregexp.stem('singing')"
   ]
  },
  {
   "cell_type": "markdown",
   "id": "5f9d5c32-1b43-408d-8888-92c6a184c2c9",
   "metadata": {},
   "source": [
    "4) SnowballStemmer"
   ]
  },
  {
   "cell_type": "code",
   "execution_count": 24,
   "id": "e79171b4-84af-4a9a-8f46-240fbe4c2be3",
   "metadata": {},
   "outputs": [
    {
     "data": {
      "text/plain": [
       "'mang'"
      ]
     },
     "execution_count": 24,
     "metadata": {},
     "output_type": "execute_result"
    }
   ],
   "source": [
    "from nltk.stem import SnowballStemmer\n",
    "SnowballStemmer.languages\n",
    "frenchstemmer=SnowballStemmer('french')\n",
    "frenchstemmer.stem('manges')"
   ]
  },
  {
   "cell_type": "markdown",
   "id": "037e183f-d44f-4f93-b27c-5bdb22066546",
   "metadata": {},
   "source": [
    "BASIC TEXT PROCESSING PIPELINE"
   ]
  },
  {
   "cell_type": "code",
   "execution_count": 26,
   "id": "3f13a964-a2a9-4d3f-9b74-b7e9f0e01d70",
   "metadata": {},
   "outputs": [
    {
     "name": "stdout",
     "output_type": "stream",
     "text": [
      "['Become', 'an', 'expert', 'in', 'NLP']\n"
     ]
    }
   ],
   "source": [
    "sent=\"Become an expert in NLP\"\n",
    "words=nltk.word_tokenize(sent)\n",
    "print(words)"
   ]
  },
  {
   "cell_type": "code",
   "execution_count": 36,
   "id": "2e2d119b-fc15-4630-9a16-e45c2f4a273c",
   "metadata": {},
   "outputs": [
    {
     "name": "stdout",
     "output_type": "stream",
     "text": [
      "[('Bali', 'NNP'), ('is', 'VBZ'), ('predominantly', 'RB'), ('a', 'DT'), ('Hindu', 'NNP'), ('country', 'NN'), ('.', '.')]\n",
      "[('Bali', 'NNP'), ('is', 'VBZ'), ('known', 'VBN'), ('for', 'IN'), ('its', 'PRP$'), ('elaborate', 'NN'), (',', ','), ('traditional', 'JJ'), ('dancing', 'NN'), ('.', '.')]\n",
      "[('The', 'DT'), ('dancing', 'NN'), ('is', 'VBZ'), ('inspired', 'VBN'), ('by', 'IN'), ('its', 'PRP$'), ('Hindi', 'NNP'), ('beliefs', 'NN'), ('.', '.')]\n",
      "[('Most', 'JJS'), ('of', 'IN'), ('the', 'DT'), ('dancing', 'NN'), ('portrays', 'VBZ'), ('tales', 'NNS'), ('of', 'IN'), ('good', 'JJ'), ('versus', 'NN'), ('evil', 'NN'), ('.', '.')]\n",
      "[('To', 'TO'), ('watch', 'VB'), ('the', 'DT'), ('dancing', 'NN'), ('is', 'VBZ'), ('a', 'DT'), ('breathtaking', 'JJ'), ('experience', 'NN'), ('.', '.')]\n",
      "[('Lombok', 'NNP'), ('has', 'VBZ'), ('some', 'DT'), ('impressive', 'JJ'), ('points', 'NNS'), ('of', 'IN'), ('interest', 'NN'), ('–', 'IN'), ('the', 'DT'), ('majestic', 'JJ'), ('Gunung', 'NNP'), ('Rinjani', 'NNP'), ('is', 'VBZ'), ('an', 'DT'), ('active', 'JJ'), ('volcano', 'NN'), ('.', '.')]\n",
      "[('It', 'PRP'), ('is', 'VBZ'), ('the', 'DT'), ('second', 'JJ'), ('highest', 'JJS'), ('peak', 'NN'), ('in', 'IN'), ('Indonesia', 'NNP'), ('.', '.')]\n",
      "[('Art', 'NN'), ('is', 'VBZ'), ('a', 'DT'), ('Balinese', 'JJ'), ('passion', 'NN'), ('.', '.')]\n",
      "[('Batik', 'NNP'), ('paintings', 'NNS'), ('and', 'CC'), ('carved', 'VBD'), ('statues', 'NNS'), ('make', 'VBP'), ('popular', 'JJ'), ('souvenirs', 'NNS'), ('.', '.')]\n",
      "[('Artists', 'NNS'), ('can', 'MD'), ('be', 'VB'), ('seen', 'VBN'), ('whittling', 'VBG'), ('and', 'CC'), ('painting', 'VBG'), ('on', 'IN'), ('the', 'DT'), ('streets', 'NNS'), (',', ','), ('particularly', 'RB'), ('in', 'IN'), ('Ubud', 'NNP'), ('.', '.')]\n",
      "[('It', 'PRP'), ('is', 'VBZ'), ('easy', 'JJ'), ('to', 'TO'), ('appreciate', 'VB'), ('each', 'DT'), ('island', 'NN'), ('as', 'IN'), ('an', 'DT'), ('attractive', 'JJ'), ('tourist', 'NN'), ('destination', 'NN'), ('.', '.')]\n",
      "[('Majestic', 'JJ'), ('scenery', 'NN'), (';', ':'), ('rich', 'JJ'), ('culture', 'NN'), (';', ':'), ('white', 'JJ'), ('sands', 'NNS'), ('and', 'CC'), ('warm', 'NN'), (',', ','), ('azure', 'NN'), ('waters', 'NNS'), ('draw', 'VBP'), ('visitors', 'NNS'), ('like', 'IN'), ('magnets', 'NNS'), ('every', 'DT'), ('year', 'NN'), ('.', '.')]\n",
      "[('Snorkelling', 'VBG'), ('and', 'CC'), ('diving', 'VBG'), ('around', 'IN'), ('the', 'DT'), ('nearby', 'JJ'), ('Gili', 'NNP'), ('Islands', 'NNP'), ('is', 'VBZ'), ('magnificent', 'JJ'), ('.', '.')]\n",
      "[('Marine', 'NNP'), ('fish', 'NN'), (',', ','), ('starfish', 'JJ'), (',', ','), ('turtles', 'NNS'), ('and', 'CC'), ('coral', 'JJ'), ('reef', 'NN'), ('are', 'VBP'), ('present', 'JJ'), ('in', 'IN'), ('abundance', 'NN'), ('.', '.')]\n",
      "[('Bali', 'NNP'), ('and', 'CC'), ('Lombok', 'NNP'), ('are', 'VBP'), ('part', 'NN'), ('of', 'IN'), ('the', 'DT'), ('Indonesian', 'JJ'), ('archipelago', 'NN'), ('.', '.')]\n",
      "[('Bali', 'NNP'), ('has', 'VBZ'), ('some', 'DT'), ('spectacular', 'JJ'), ('temples', 'NNS'), ('.', '.')]\n",
      "[('The', 'DT'), ('most', 'RBS'), ('significant', 'JJ'), ('is', 'VBZ'), ('the', 'DT'), ('Mother', 'NNP'), ('Temple', 'NNP'), (',', ','), ('Besakih', 'NNP'), ('.', '.')]\n",
      "[('The', 'DT'), ('inhabitants', 'NNS'), ('of', 'IN'), ('Lombok', 'NNP'), ('are', 'VBP'), ('mostly', 'RB'), ('Muslim', 'NNP'), ('with', 'IN'), ('a', 'DT'), ('Hindu', 'NNP'), ('minority', 'NN'), ('.', '.')]\n",
      "[('Lombok', 'NNP'), ('remains', 'VBZ'), ('the', 'DT'), ('most', 'RBS'), ('understated', 'JJ'), ('of', 'IN'), ('the', 'DT'), ('two', 'CD'), ('islands', 'NNS'), ('.', '.')]\n",
      "[('Lombok', 'NNP'), ('has', 'VBZ'), ('several', 'JJ'), ('temples', 'NNS'), ('worthy', 'NNS'), ('of', 'IN'), ('a', 'DT'), ('visit', 'NN'), (',', ','), ('though', 'IN'), ('they', 'PRP'), ('are', 'VBP'), ('less', 'RBR'), ('prolific', 'JJ'), ('.', '.')]\n",
      "[('Bali', 'NNP'), ('and', 'CC'), ('Lombok', 'NNP'), ('are', 'VBP'), ('neighbouring', 'VBG'), ('islands', 'NNS'), ('.', '.')]\n"
     ]
    }
   ],
   "source": [
    "texts='''Bali is predominantly a Hindu country. Bali is known for its elaborate, traditional dancing. \n",
    "The dancing is inspired by its Hindi beliefs. Most of the dancing portrays tales of good versus evil. \n",
    "To watch the dancing is a breathtaking experience. Lombok has some impressive points of interest – the majestic Gunung Rinjani is an \n",
    "active volcano. It is the second highest peak in Indonesia. Art is a Balinese passion. Batik paintings and carved statues make popular \n",
    "souvenirs. Artists can be seen whittling and painting on the streets, particularly in Ubud. It is easy to appreciate each island as an \n",
    "attractive tourist destination. Majestic scenery; rich culture; white sands and warm, azure waters draw visitors like magnets every year. \n",
    "Snorkelling and diving around the nearby Gili Islands is magnificent. Marine fish, starfish, turtles and coral reef are present in abundance. \n",
    "Bali and Lombok are part of the Indonesian archipelago. Bali has some spectacular temples. The most significant is the Mother \n",
    "Temple, Besakih. The inhabitants of Lombok are mostly Muslim with a Hindu minority. Lombok remains the most understated of the \n",
    "two islands. Lombok has several temples worthy of a visit, though they are less prolific. Bali and Lombok are neighbouring islands.'''\n",
    "sentences=nltk.sent_tokenize(texts)\n",
    "for sentence in sentences:\n",
    "    words=nltk.word_tokenize(sentence)\n",
    "    tagged=nltk.pos_tag(words)\n",
    "    print(tagged)"
   ]
  }
 ],
 "metadata": {
  "kernelspec": {
   "display_name": "Python 3 (ipykernel)",
   "language": "python",
   "name": "python3"
  },
  "language_info": {
   "codemirror_mode": {
    "name": "ipython",
    "version": 3
   },
   "file_extension": ".py",
   "mimetype": "text/x-python",
   "name": "python",
   "nbconvert_exporter": "python",
   "pygments_lexer": "ipython3",
   "version": "3.12.1"
  }
 },
 "nbformat": 4,
 "nbformat_minor": 5
}
